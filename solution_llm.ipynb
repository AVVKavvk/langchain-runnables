{
 "cells": [
  {
   "cell_type": "code",
   "execution_count": 41,
   "id": "b4954a52",
   "metadata": {},
   "outputs": [],
   "source": [
    "from abc import ABC, abstractmethod"
   ]
  },
  {
   "cell_type": "code",
   "execution_count": 42,
   "id": "aaa7ebd0",
   "metadata": {},
   "outputs": [],
   "source": [
    "class Runnable(ABC):\n",
    "  \n",
    "  @abstractmethod\n",
    "  def invoke(self,input_data):\n",
    "    pass"
   ]
  },
  {
   "cell_type": "code",
   "execution_count": 63,
   "id": "2134bbe5",
   "metadata": {},
   "outputs": [],
   "source": [
    "import random\n",
    "\n",
    "class NakliLLM(Runnable):\n",
    "  \n",
    "  def __init__(self):\n",
    "    print(\"LLM initialized\")\n",
    "  \n",
    "  def invoke(self, prompt):\n",
    "    response_list =[\n",
    "      \"I'm not sure what you're talking about.\",\n",
    "      \"That's a pretty interesting question.\",\n",
    "      \"I'm not sure I understand what you're asking.\",\n",
    "      \"I'm not sure I can help with that.\",\n",
    "    ]\n",
    "    return {\"response\":random.choice(response_list)}\n",
    "  \n",
    "  def predict(self,prompt):\n",
    "    response_list =[\n",
    "      \"I'm not sure what you're talking about.\",\n",
    "      \"That's a pretty interesting question.\",\n",
    "      \"I'm not sure I understand what you're asking.\",\n",
    "      \"I'm not sure I can help with that.\",\n",
    "    ]\n",
    "    return {\"response\":random.choice(response_list)}"
   ]
  },
  {
   "cell_type": "code",
   "execution_count": 64,
   "id": "b844f117",
   "metadata": {},
   "outputs": [
    {
     "name": "stdout",
     "output_type": "stream",
     "text": [
      "LLM initialized\n"
     ]
    }
   ],
   "source": [
    "llm = NakliLLM()"
   ]
  },
  {
   "cell_type": "code",
   "execution_count": 65,
   "id": "d5e48a26",
   "metadata": {},
   "outputs": [],
   "source": [
    "class NakliPromptTemplate(Runnable):\n",
    "  \n",
    "  def __init__(self, template,input_variables):\n",
    "    self.template = template\n",
    "    self.input_variables = input_variables\n",
    "  \n",
    "  def invoke(self, input_dict):\n",
    "    return self.template.format(**input_dict)\n",
    "  \n",
    "  def format(self, input_dict):\n",
    "    \n",
    "    return self.template.format(**input_dict)\n",
    "    "
   ]
  },
  {
   "cell_type": "code",
   "execution_count": 66,
   "id": "19bd78b9",
   "metadata": {},
   "outputs": [],
   "source": [
    "template = NakliPromptTemplate(\n",
    "  template=\"Give me {length} note on {topic}\",\n",
    "  input_variables=[\"length\",\"topic\"]\n",
    ")"
   ]
  },
  {
   "cell_type": "code",
   "execution_count": 67,
   "id": "c5cf23b6",
   "metadata": {},
   "outputs": [],
   "source": [
    "class NakliStrOutputParser(Runnable):\n",
    "  def __init__(self):\n",
    "    pass\n",
    "  \n",
    "  def invoke(self,input_data):\n",
    "    return input_data[\"response\"]"
   ]
  },
  {
   "cell_type": "code",
   "execution_count": 68,
   "id": "4afff6d7",
   "metadata": {},
   "outputs": [],
   "source": [
    "parser = NakliStrOutputParser()"
   ]
  },
  {
   "cell_type": "code",
   "execution_count": 69,
   "id": "151e9892",
   "metadata": {},
   "outputs": [],
   "source": [
    "class NakliRunnableConnector(Runnable):\n",
    "  def __init__(self,runnable_list):\n",
    "    self.runnable_list = runnable_list\n",
    "  \n",
    "  def invoke(self,input_data):\n",
    "    for runnable in self.runnable_list:\n",
    "      input_data = runnable.invoke(input_data)\n",
    "    \n",
    "    return input_data"
   ]
  },
  {
   "cell_type": "code",
   "execution_count": 71,
   "id": "e147ebc9",
   "metadata": {},
   "outputs": [
    {
     "data": {
      "text/plain": [
       "\"I'm not sure I can help with that.\""
      ]
     },
     "execution_count": 71,
     "metadata": {},
     "output_type": "execute_result"
    }
   ],
   "source": [
    "chain = NakliRunnableConnector([template,llm,parser])\n",
    "\n",
    "chain.invoke({\n",
    "  \"length\":\"short\",\n",
    "  \"topic\":\"Black hole\"\n",
    "})"
   ]
  }
 ],
 "metadata": {
  "kernelspec": {
   "display_name": ".venv",
   "language": "python",
   "name": "python3"
  },
  "language_info": {
   "codemirror_mode": {
    "name": "ipython",
    "version": 3
   },
   "file_extension": ".py",
   "mimetype": "text/x-python",
   "name": "python",
   "nbconvert_exporter": "python",
   "pygments_lexer": "ipython3",
   "version": "3.12.7"
  }
 },
 "nbformat": 4,
 "nbformat_minor": 5
}
