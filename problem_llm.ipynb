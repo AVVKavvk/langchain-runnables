{
 "cells": [
  {
   "cell_type": "code",
   "execution_count": 1,
   "id": "3cd2eb80",
   "metadata": {},
   "outputs": [],
   "source": [
    "import random\n",
    "\n",
    "class NakliLLM:\n",
    "  \n",
    "  def __init__(self):\n",
    "    print(\"LLM initialized\")\n",
    "  \n",
    "  def predict(self,prompt):\n",
    "    response_list =[\n",
    "      \"I'm not sure what you're talking about.\",\n",
    "      \"That's a pretty interesting question.\",\n",
    "      \"I'm not sure I understand what you're asking.\",\n",
    "      \"I'm not sure I can help with that.\",\n",
    "    ]\n",
    "    return random.choice(response_list)"
   ]
  },
  {
   "cell_type": "code",
   "execution_count": 2,
   "id": "7176ff1b",
   "metadata": {},
   "outputs": [
    {
     "name": "stdout",
     "output_type": "stream",
     "text": [
      "LLM initialized\n"
     ]
    }
   ],
   "source": [
    "llm = NakliLLM()"
   ]
  },
  {
   "cell_type": "code",
   "execution_count": 3,
   "id": "0f706d5f",
   "metadata": {},
   "outputs": [
    {
     "data": {
      "text/plain": [
       "\"That's a pretty interesting question.\""
      ]
     },
     "execution_count": 3,
     "metadata": {},
     "output_type": "execute_result"
    }
   ],
   "source": [
    "llm.predict(\"Can you tell me about Vipin\")"
   ]
  },
  {
   "cell_type": "code",
   "execution_count": 4,
   "id": "cf0ae1c8",
   "metadata": {},
   "outputs": [],
   "source": [
    "class NakliPromptTemplate:\n",
    "  \n",
    "  def __init__(self, template,input_variables):\n",
    "    self.template = template\n",
    "    self.input_variables = input_variables\n",
    "  \n",
    "  def format(self, input_dict):\n",
    "    \n",
    "    return self.template.format(**input_dict)\n",
    "    "
   ]
  },
  {
   "cell_type": "code",
   "execution_count": 5,
   "id": "fef02117",
   "metadata": {},
   "outputs": [],
   "source": [
    "template = NakliPromptTemplate(\n",
    "  template=\"Give me {length} note on {topic}\",\n",
    "  input_variables=[\"length\",\"topic\"]\n",
    ")"
   ]
  },
  {
   "cell_type": "code",
   "execution_count": 6,
   "id": "51c7a97b",
   "metadata": {},
   "outputs": [
    {
     "data": {
      "text/plain": [
       "'Give me short note on Black holes'"
      ]
     },
     "execution_count": 6,
     "metadata": {},
     "output_type": "execute_result"
    }
   ],
   "source": [
    "template.format({\n",
    "  \"length\":\"short\",\n",
    "  \"topic\":\"Black holes\"\n",
    "})"
   ]
  },
  {
   "cell_type": "code",
   "execution_count": 7,
   "id": "abea7c46",
   "metadata": {},
   "outputs": [],
   "source": [
    "prompt = template.format({\n",
    "  \"length\":\"short\",\n",
    "  \"topic\":\"Black holes\"\n",
    "})"
   ]
  },
  {
   "cell_type": "code",
   "execution_count": 8,
   "id": "127f74da",
   "metadata": {},
   "outputs": [
    {
     "name": "stdout",
     "output_type": "stream",
     "text": [
      "LLM initialized\n"
     ]
    }
   ],
   "source": [
    "llm = NakliLLM()"
   ]
  },
  {
   "cell_type": "code",
   "execution_count": 9,
   "id": "eeacd362",
   "metadata": {},
   "outputs": [
    {
     "data": {
      "text/plain": [
       "\"I'm not sure I can help with that.\""
      ]
     },
     "execution_count": 9,
     "metadata": {},
     "output_type": "execute_result"
    }
   ],
   "source": [
    "llm.predict(prompt)"
   ]
  },
  {
   "cell_type": "code",
   "execution_count": 10,
   "id": "4fc275aa",
   "metadata": {},
   "outputs": [],
   "source": [
    "class NakliLLMChain:\n",
    "  \n",
    "  def __init__(self,llm,prompt):\n",
    "    self.llm = llm\n",
    "    self.prompt= prompt\n",
    "  \n",
    "  def run(self,input_dict):\n",
    "    final_prompt = self.prompt.format(input_dict)\n",
    "    result = self.llm.predict(final_prompt)\n",
    "    return result\n",
    "  "
   ]
  },
  {
   "cell_type": "code",
   "execution_count": 11,
   "id": "173dad8a",
   "metadata": {},
   "outputs": [],
   "source": [
    "template = NakliPromptTemplate(\n",
    "  template=\"Give me {length} note on {topic}\",\n",
    "  input_variables=[\"length\",\"topic\"]\n",
    ")"
   ]
  },
  {
   "cell_type": "code",
   "execution_count": 12,
   "id": "666cf934",
   "metadata": {},
   "outputs": [
    {
     "name": "stdout",
     "output_type": "stream",
     "text": [
      "LLM initialized\n"
     ]
    }
   ],
   "source": [
    "llm = NakliLLM()"
   ]
  },
  {
   "cell_type": "code",
   "execution_count": 13,
   "id": "ca363641",
   "metadata": {},
   "outputs": [],
   "source": [
    "chain = NakliLLMChain(llm,template)"
   ]
  },
  {
   "cell_type": "code",
   "execution_count": 14,
   "id": "0aab794e",
   "metadata": {},
   "outputs": [
    {
     "data": {
      "text/plain": [
       "\"I'm not sure I can help with that.\""
      ]
     },
     "execution_count": 14,
     "metadata": {},
     "output_type": "execute_result"
    }
   ],
   "source": [
    "chain.run({\n",
    "  \"length\":\"short\",\n",
    "  \"topic\":\"Black holes\"\n",
    "})"
   ]
  },
  {
   "cell_type": "code",
   "execution_count": null,
   "id": "5285dd0e",
   "metadata": {},
   "outputs": [],
   "source": []
  }
 ],
 "metadata": {
  "kernelspec": {
   "display_name": ".venv",
   "language": "python",
   "name": "python3"
  },
  "language_info": {
   "codemirror_mode": {
    "name": "ipython",
    "version": 3
   },
   "file_extension": ".py",
   "mimetype": "text/x-python",
   "name": "python",
   "nbconvert_exporter": "python",
   "pygments_lexer": "ipython3",
   "version": "3.12.7"
  }
 },
 "nbformat": 4,
 "nbformat_minor": 5
}
